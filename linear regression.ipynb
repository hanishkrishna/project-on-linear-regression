Introduction
Greetings from the Kaggle bot! This is an automatically-generated kernel with starter code demonstrating how to read in the data and begin exploring. If you're inspired to dig deeper, click the blue "Fork Notebook" button at the top of this kernel to begin editing.

Exploratory Analysis
To begin this exploratory analysis, first import libraries and define functions for plotting the data using matplotlib. Depending on the data, not all plots will be made. (Hey, I'm just a simple kerneling bot, not a Kaggle Competitions Grandmaster!)

from mpl_toolkits.mplot3d import Axes3D
from sklearn.preprocessing import StandardScaler
import matplotlib.pyplot as plt # plotting
import numpy as np # linear algebra
import os # accessing directory structure
import pandas as pd # data processing, CSV file I/O (e.g. pd.read_csv)
There is 1 csv file in the current version of the dataset:

print(os.listdir('../input'))
['Linear Regression - Sheet1.csv']
The next hidden code cells define functions for plotting data. Click on the "Code" button in the published kernel to reveal the hidden code.

Now you're ready to read in the data and use the plotting functions to visualize the data.

Let's check 1st file: ../input/Linear Regression - Sheet1.csv
nRowsRead = 1000 # specify 'None' if want to read whole file
df1 = pd.read_csv('../input/Linear Regression - Sheet1.csv', delimiter=',', nrows = nRowsRead)
df1.dataframeName = 'Linear Regression - Sheet1.csv'
nRow, nCol = df1.shape
print(f'There are {nRow} rows and {nCol} columns')
There are 300 rows and 2 columns
Let's take a quick look at what the data looks like:

df1.head(5)
X	Y
0	1	3.888889
1	2	4.555556
2	3	5.222222
3	4	5.888889
4	5	6.555556
Distribution graphs (histogram/bar graph) of sampled columns:

plotPerColumnDistribution(df1, 10, 5)
<Figure size 2400x512 with 0 Axes>
Correlation matrix:

plotCorrelationMatrix(df1, 8)

Scatter and density plots:

plotScatterMatrix(df1, 6, 15)

Conclusion¶
This concludes your starter analysis! To go forward from here, click the blue "Fork Notebook" button at the top of this kernel. This will create a copy of the code and environment for you to edit. Delete, modify, and add code as you please. Happy Kaggling!
